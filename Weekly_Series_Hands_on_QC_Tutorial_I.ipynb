{
  "cells": [
    {
      "cell_type": "markdown",
      "metadata": {
        "id": "view-in-github",
        "colab_type": "text"
      },
      "source": [
        "<a href=\"https://colab.research.google.com/github/sabinthapa100/Quantum_Computing/blob/main/Weekly_Series_Hands_on_QC_Tutorial_I.ipynb\" target=\"_parent\"><img src=\"https://colab.research.google.com/assets/colab-badge.svg\" alt=\"Open In Colab\"/></a>"
      ]
    },
    {
      "cell_type": "markdown",
      "metadata": {
        "id": "eZl_LAjELIjp"
      },
      "source": [
        "# Introduction to Quantum Computing - I"
      ]
    },
    {
      "cell_type": "markdown",
      "metadata": {
        "id": "mXecPQw7LVzU"
      },
      "source": [
        "# What is a Quantum Computer?"
      ]
    },
    {
      "cell_type": "markdown",
      "metadata": {
        "id": "aH0BTdwlMWe-"
      },
      "source": [
        "A quantum computer is a type of computer that uses quantum mechanics to perform operations on data. Unlike classical computers, which store and manipulate information as binary digits (bits: 0 or 1), quantum computers use quantum bits (qubits) that can exist in multiple states at the same time, allowing them to perform certain calculations much faster than classical computers.\n"
      ]
    },
    {
      "cell_type": "markdown",
      "metadata": {
        "id": "c_Y4TQl2L-9a"
      },
      "source": [
        "## What powers quantum computers?\n",
        "\n",
        "1.   Interference\n",
        "2.   Superposition\n",
        "3.   Entanglement"
      ]
    },
    {
      "cell_type": "markdown",
      "metadata": {
        "id": "eBi40dWMLamD"
      },
      "source": [
        "# Quantum Stacks"
      ]
    },
    {
      "cell_type": "markdown",
      "metadata": {
        "id": "SyGInN3NN9t7"
      },
      "source": [
        "1. Qubits\n",
        "\n",
        "2. Quantum gates\n",
        "\n",
        "3. Quantum Circuits\n",
        "\n",
        "4. Quantum Algorithms and Protocols\n",
        "\n",
        "5. Applications"
      ]
    },
    {
      "cell_type": "markdown",
      "metadata": {
        "id": "rQYRAG9bN_9V"
      },
      "source": [
        "### What is a Qubit?\n",
        "Qubit is the quantum version of classical bit.\n",
        "\n",
        "Qubit is a two-level quantum systems that can encode information."
      ]
    },
    {
      "cell_type": "markdown",
      "metadata": {
        "id": "54YDwUmsNBO-"
      },
      "source": [
        "Generally, we take +z-axis as the |0> state, and negative z-axis (-z) as |1> state.\n",
        "\n",
        "Here, {|0>, |1>} forms basis! \n",
        "\n",
        "So, \n",
        "\n",
        "|0> = 1. |0> + 0. |1> = $\\begin{pmatrix}  1 \\\\   0 \\end{pmatrix} $.\n",
        "\n",
        "|1> = 0. |0> + 1. |1> = $\\begin{pmatrix}  0 \\\\   1 \\end{pmatrix} $.\n",
        "\n",
        "\n",
        "The other two states(superposition states) along +x and -x are:\n",
        "\n",
        "|+> = $ \\frac{1}{\\sqrt{2}} |0> +  \\frac{1}{\\sqrt{2}} |1>  = \\frac{1}{\\sqrt{2}} \\begin{pmatrix}  1 \\\\   1 \\end{pmatrix} $ \n",
        "\n",
        "and \n",
        "\n",
        "|->  = $ \\frac{1}{\\sqrt{2}} |0> -  \\frac{1}{\\sqrt{2}} |1> = \\frac{1}{\\sqrt{2}} \\begin{pmatrix}  1 \\\\    - 1 \\end{pmatrix} $.\n",
        "\n",
        "By applying rotations [quantum gates / matrices] in the quantum states, we can obtain other states (valid by Born's Rule) - Bloch Sphere makes the life easy.\n",
        "\n",
        "Hilbert space could form basis in different way than what we normally know from cartesian."
      ]
    },
    {
      "cell_type": "markdown",
      "metadata": {
        "id": "hI9LO7Gte0-4"
      },
      "source": [
        "# Quantum Gates\n",
        "\n",
        "In quantum computing and specifically the quantum circuit model of computation, a quantum logic gate (or simply quantum gate) is a basic quantum circuit operating on a small number of qubits. They are the building blocks of quantum circuits, like classical logic gates (NAND, NOR) are for conventional digital circuits.\n",
        "\n",
        "The common quantum gates are:\n",
        "1. X-Gate (Bit flip gate ~ NOT) =  $\\begin{bmatrix} 0 & 1 \\\\[0.3em] 1 & 0 \\end{bmatrix} $ \n",
        "Here, if you want to apply X-Gate to this qubit (0th qubit as we only have single qubit), you can simply do:\n",
        "\n",
        "qc.x(0)\n",
        "\n",
        "**Note: qc.x(#index_of_qubit)!**\n",
        "\n",
        "So, what do we get?\n",
        "After applying X-Gate to the 0th qubit, it goes from |0> to |1> state. We can predict this using matrix multiplication:\n",
        "\n",
        "X |0> = |1>,\n",
        "\n",
        "that is,\n",
        "\n",
        "$\\begin{bmatrix} 0 & 1 \\\\[0.3em] 1 & 0 \\end{bmatrix} \\begin{bmatrix} 1 \\\\[0.3em]  0 \\end{bmatrix} = \\begin{bmatrix} 0 \\\\[0.3em] 1 \\end{bmatrix}$,\n",
        "and so on!\n",
        "\n",
        "\n",
        "\n",
        "2. Z-Gate (Phase flip Gate)  = $\\begin{bmatrix} 1 & 0 \\\\[0.3em] 0 & -1 \\end{bmatrix} $ \n",
        "\n",
        "\n",
        "Here, **qc[0] means that the qubit is the 0th qubit, note that indexing of qubits/classical-bits start from 0**.\n",
        "\n",
        "3. H-Gate (Hadamard Gate) = $\\frac{1}{\\sqrt{2}}\\begin{bmatrix} 1 & 1 \\\\[0.3em] 1 & -1 \\end{bmatrix} $ \n",
        "We can obtain superposition if we apply H gate to a qubit.\n",
        "\n",
        "If we apply H gate to |0> state, we get |+> superposition state.\n",
        "If we apply H gate to |1> state, we get |-> superposition state.\n",
        "\n",
        "4. CNOT-Gate (Controlled NOT gate) = $\\begin{bmatrix} 1 & 0 & 0 & 0 \\\\[0.3em] 0 & 1 & 0 & 0 \\\\[0.3em] 0 & 0 & 0 & 1 \\\\[0.3em] 0 & 0 & 1 & 0 \\end{bmatrix} $.\n",
        "It acts on two qubits: first being the control and second being the target like,\n",
        " CNOT(q0,q1) => q1 is controlled by q0 such that q1 undergoes bit-flip if q0 is 1, i.e. if q0 is in 0th state, q1 doesnot change. Here, q0 DOESNOT undergo any changes!\n"
      ]
    },
    {
      "cell_type": "markdown",
      "metadata": {
        "id": "BQ786nJPzxNo"
      },
      "source": [
        "\n",
        "\n",
        "**Note: The qubits are generally initialized at |0> state**.\n",
        "\n"
      ]
    },
    {
      "cell_type": "markdown",
      "metadata": {
        "id": "3SKzoNj0VPU3"
      },
      "source": [
        "# Tutorial 1:\n",
        "\n",
        "1. Create Online Account in Google Colab or IBM Quantum Computing.\n",
        "\n",
        "2. You can create jupyter notebook in those platforms, and also upload the notebooks!\n",
        "\n",
        "3. For now, upload the **\"Weekly Series - Hands-on QC Tutorial-I.ipynb\"** into any of those platforms (choose the good one! - based on your device, internet and interest).\n",
        "\n",
        "Now, let's start going through the tutorial, doing the work in real time!\n",
        "\n"
      ]
    },
    {
      "cell_type": "markdown",
      "source": [
        "## Importing all the libraries \n",
        "\n",
        "(no need to memorize!)\n",
        "(you can review it later!)"
      ],
      "metadata": {
        "id": "TfnALS3GW92N"
      }
    },
    {
      "cell_type": "code",
      "source": [
        "#Let's import all the libraries needed for this talk\n",
        "\n",
        "#install qiskit \n",
        "!pip install qiskit\n",
        "\n",
        "#from qiskit, import all the needed libraries\n",
        "from qiskit import QuantumCircuit, Aer, transpile, assemble, execute, Aer, IBMQ\n",
        "from qiskit.visualization import plot_histogram\n",
        "from qiskit.circuit.random import random_circuit\n",
        "from qiskit.quantum_info import Statevector, partial_trace, state_fidelity\n",
        "\n",
        "from qiskit.quantum_info import Statevector\n",
        "from qiskit.visualization import plot_bloch_multivector\n",
        "\n",
        "from qiskit.visualization import visualize_transition # We will use this function to run our circuit and visualize its final state\n",
        "\n",
        "import warnings  # We are using this library to suppress some warning messages\n",
        "warnings.filterwarnings(\"ignore\")\n",
        "\n",
        "from numpy.random import randint\n",
        "from random import random\n",
        "import matplotlib.pyplot as plt\n",
        "import math\n",
        "\n",
        "print(\"Libraries Imported Successfully!\")"
      ],
      "metadata": {
        "colab": {
          "base_uri": "https://localhost:8080/"
        },
        "id": "xauGREHNXFkC",
        "outputId": "15551d52-6fd9-4618-d124-1e68dee6344d"
      },
      "execution_count": 2,
      "outputs": [
        {
          "output_type": "stream",
          "name": "stdout",
          "text": [
            "Looking in indexes: https://pypi.org/simple, https://us-python.pkg.dev/colab-wheels/public/simple/\n",
            "Collecting qiskit\n",
            "  Downloading qiskit-0.43.1.tar.gz (9.6 kB)\n",
            "  Installing build dependencies ... \u001b[?25l\u001b[?25hdone\n",
            "  Getting requirements to build wheel ... \u001b[?25l\u001b[?25hdone\n",
            "  Installing backend dependencies ... \u001b[?25l\u001b[?25hdone\n",
            "  Preparing metadata (pyproject.toml) ... \u001b[?25l\u001b[?25hdone\n",
            "Collecting qiskit-terra==0.24.1 (from qiskit)\n",
            "  Downloading qiskit_terra-0.24.1-cp310-cp310-manylinux_2_17_x86_64.manylinux2014_x86_64.whl (5.9 MB)\n",
            "\u001b[2K     \u001b[90m━━━━━━━━━━━━━━━━━━━━━━━━━━━━━━━━━━━━━━━━\u001b[0m \u001b[32m5.9/5.9 MB\u001b[0m \u001b[31m31.6 MB/s\u001b[0m eta \u001b[36m0:00:00\u001b[0m\n",
            "\u001b[?25hCollecting qiskit-aer==0.12.0 (from qiskit)\n",
            "  Downloading qiskit_aer-0.12.0-cp310-cp310-manylinux_2_17_x86_64.manylinux2014_x86_64.whl (12.8 MB)\n",
            "\u001b[2K     \u001b[90m━━━━━━━━━━━━━━━━━━━━━━━━━━━━━━━━━━━━━━━━\u001b[0m \u001b[32m12.8/12.8 MB\u001b[0m \u001b[31m76.8 MB/s\u001b[0m eta \u001b[36m0:00:00\u001b[0m\n",
            "\u001b[?25hCollecting qiskit-ibmq-provider==0.20.2 (from qiskit)\n",
            "  Downloading qiskit_ibmq_provider-0.20.2-py3-none-any.whl (241 kB)\n",
            "\u001b[2K     \u001b[90m━━━━━━━━━━━━━━━━━━━━━━━━━━━━━━━━━━━━━━\u001b[0m \u001b[32m241.5/241.5 kB\u001b[0m \u001b[31m19.4 MB/s\u001b[0m eta \u001b[36m0:00:00\u001b[0m\n",
            "\u001b[?25hRequirement already satisfied: numpy>=1.16.3 in /usr/local/lib/python3.10/dist-packages (from qiskit-aer==0.12.0->qiskit) (1.22.4)\n",
            "Requirement already satisfied: scipy>=1.0 in /usr/local/lib/python3.10/dist-packages (from qiskit-aer==0.12.0->qiskit) (1.10.1)\n",
            "Requirement already satisfied: requests>=2.19 in /usr/local/lib/python3.10/dist-packages (from qiskit-ibmq-provider==0.20.2->qiskit) (2.27.1)\n",
            "Collecting requests-ntlm<=1.1.0 (from qiskit-ibmq-provider==0.20.2->qiskit)\n",
            "  Downloading requests_ntlm-1.1.0-py2.py3-none-any.whl (5.7 kB)\n",
            "Requirement already satisfied: urllib3>=1.21.1 in /usr/local/lib/python3.10/dist-packages (from qiskit-ibmq-provider==0.20.2->qiskit) (1.26.15)\n",
            "Requirement already satisfied: python-dateutil>=2.8.0 in /usr/local/lib/python3.10/dist-packages (from qiskit-ibmq-provider==0.20.2->qiskit) (2.8.2)\n",
            "Requirement already satisfied: websocket-client>=1.5.1 in /usr/local/lib/python3.10/dist-packages (from qiskit-ibmq-provider==0.20.2->qiskit) (1.5.1)\n",
            "Collecting websockets>=10.0 (from qiskit-ibmq-provider==0.20.2->qiskit)\n",
            "  Downloading websockets-11.0.3-cp310-cp310-manylinux_2_5_x86_64.manylinux1_x86_64.manylinux_2_17_x86_64.manylinux2014_x86_64.whl (129 kB)\n",
            "\u001b[2K     \u001b[90m━━━━━━━━━━━━━━━━━━━━━━━━━━━━━━━━━━━━━━\u001b[0m \u001b[32m129.9/129.9 kB\u001b[0m \u001b[31m12.9 MB/s\u001b[0m eta \u001b[36m0:00:00\u001b[0m\n",
            "\u001b[?25hCollecting rustworkx>=0.12.0 (from qiskit-terra==0.24.1->qiskit)\n",
            "  Downloading rustworkx-0.13.0-cp310-cp310-manylinux_2_17_x86_64.manylinux2014_x86_64.whl (1.9 MB)\n",
            "\u001b[2K     \u001b[90m━━━━━━━━━━━━━━━━━━━━━━━━━━━━━━━━━━━━━━━━\u001b[0m \u001b[32m1.9/1.9 MB\u001b[0m \u001b[31m74.3 MB/s\u001b[0m eta \u001b[36m0:00:00\u001b[0m\n",
            "\u001b[?25hCollecting ply>=3.10 (from qiskit-terra==0.24.1->qiskit)\n",
            "  Downloading ply-3.11-py2.py3-none-any.whl (49 kB)\n",
            "\u001b[2K     \u001b[90m━━━━━━━━━━━━━━━━━━━━━━━━━━━━━━━━━━━━━━━━\u001b[0m \u001b[32m49.6/49.6 kB\u001b[0m \u001b[31m4.4 MB/s\u001b[0m eta \u001b[36m0:00:00\u001b[0m\n",
            "\u001b[?25hRequirement already satisfied: psutil>=5 in /usr/local/lib/python3.10/dist-packages (from qiskit-terra==0.24.1->qiskit) (5.9.5)\n",
            "Requirement already satisfied: sympy>=1.3 in /usr/local/lib/python3.10/dist-packages (from qiskit-terra==0.24.1->qiskit) (1.11.1)\n",
            "Collecting dill>=0.3 (from qiskit-terra==0.24.1->qiskit)\n",
            "  Downloading dill-0.3.6-py3-none-any.whl (110 kB)\n",
            "\u001b[2K     \u001b[90m━━━━━━━━━━━━━━━━━━━━━━━━━━━━━━━━━━━━━━\u001b[0m \u001b[32m110.5/110.5 kB\u001b[0m \u001b[31m10.8 MB/s\u001b[0m eta \u001b[36m0:00:00\u001b[0m\n",
            "\u001b[?25hCollecting stevedore>=3.0.0 (from qiskit-terra==0.24.1->qiskit)\n",
            "  Downloading stevedore-5.1.0-py3-none-any.whl (49 kB)\n",
            "\u001b[2K     \u001b[90m━━━━━━━━━━━━━━━━━━━━━━━━━━━━━━━━━━━━━━━━\u001b[0m \u001b[32m49.6/49.6 kB\u001b[0m \u001b[31m4.8 MB/s\u001b[0m eta \u001b[36m0:00:00\u001b[0m\n",
            "\u001b[?25hCollecting symengine<0.10,>=0.9 (from qiskit-terra==0.24.1->qiskit)\n",
            "  Downloading symengine-0.9.2-cp310-cp310-manylinux2010_x86_64.whl (37.5 MB)\n",
            "\u001b[2K     \u001b[90m━━━━━━━━━━━━━━━━━━━━━━━━━━━━━━━━━━━━━━━━\u001b[0m \u001b[32m37.5/37.5 MB\u001b[0m \u001b[31m15.4 MB/s\u001b[0m eta \u001b[36m0:00:00\u001b[0m\n",
            "\u001b[?25hRequirement already satisfied: six>=1.5 in /usr/local/lib/python3.10/dist-packages (from python-dateutil>=2.8.0->qiskit-ibmq-provider==0.20.2->qiskit) (1.16.0)\n",
            "Requirement already satisfied: certifi>=2017.4.17 in /usr/local/lib/python3.10/dist-packages (from requests>=2.19->qiskit-ibmq-provider==0.20.2->qiskit) (2022.12.7)\n",
            "Requirement already satisfied: charset-normalizer~=2.0.0 in /usr/local/lib/python3.10/dist-packages (from requests>=2.19->qiskit-ibmq-provider==0.20.2->qiskit) (2.0.12)\n",
            "Requirement already satisfied: idna<4,>=2.5 in /usr/local/lib/python3.10/dist-packages (from requests>=2.19->qiskit-ibmq-provider==0.20.2->qiskit) (3.4)\n",
            "Collecting ntlm-auth>=1.0.2 (from requests-ntlm<=1.1.0->qiskit-ibmq-provider==0.20.2->qiskit)\n",
            "  Downloading ntlm_auth-1.5.0-py2.py3-none-any.whl (29 kB)\n",
            "Requirement already satisfied: cryptography>=1.3 in /usr/local/lib/python3.10/dist-packages (from requests-ntlm<=1.1.0->qiskit-ibmq-provider==0.20.2->qiskit) (40.0.2)\n",
            "Collecting pbr!=2.1.0,>=2.0.0 (from stevedore>=3.0.0->qiskit-terra==0.24.1->qiskit)\n",
            "  Downloading pbr-5.11.1-py2.py3-none-any.whl (112 kB)\n",
            "\u001b[2K     \u001b[90m━━━━━━━━━━━━━━━━━━━━━━━━━━━━━━━━━━━━━━\u001b[0m \u001b[32m112.7/112.7 kB\u001b[0m \u001b[31m12.3 MB/s\u001b[0m eta \u001b[36m0:00:00\u001b[0m\n",
            "\u001b[?25hRequirement already satisfied: mpmath>=0.19 in /usr/local/lib/python3.10/dist-packages (from sympy>=1.3->qiskit-terra==0.24.1->qiskit) (1.3.0)\n",
            "Requirement already satisfied: cffi>=1.12 in /usr/local/lib/python3.10/dist-packages (from cryptography>=1.3->requests-ntlm<=1.1.0->qiskit-ibmq-provider==0.20.2->qiskit) (1.15.1)\n",
            "Requirement already satisfied: pycparser in /usr/local/lib/python3.10/dist-packages (from cffi>=1.12->cryptography>=1.3->requests-ntlm<=1.1.0->qiskit-ibmq-provider==0.20.2->qiskit) (2.21)\n",
            "Building wheels for collected packages: qiskit\n",
            "  Building wheel for qiskit (pyproject.toml) ... \u001b[?25l\u001b[?25hdone\n",
            "  Created wheel for qiskit: filename=qiskit-0.43.1-py3-none-any.whl size=8029 sha256=1ff5440b152b8522e2d08e3467fd348e83a4a3c2383c0c10ee9ebfb3f816d1da\n",
            "  Stored in directory: /root/.cache/pip/wheels/f1/f6/ad/0f2527d2cc0028cd682619f1b50a24476fd3592e0c63f87282\n",
            "Successfully built qiskit\n",
            "Installing collected packages: ply, websockets, symengine, rustworkx, pbr, ntlm-auth, dill, stevedore, requests-ntlm, qiskit-terra, qiskit-ibmq-provider, qiskit-aer, qiskit\n",
            "Successfully installed dill-0.3.6 ntlm-auth-1.5.0 pbr-5.11.1 ply-3.11 qiskit-0.43.1 qiskit-aer-0.12.0 qiskit-ibmq-provider-0.20.2 qiskit-terra-0.24.1 requests-ntlm-1.1.0 rustworkx-0.13.0 stevedore-5.1.0 symengine-0.9.2 websockets-11.0.3\n",
            "Libraries Imported Successfully!\n"
          ]
        }
      ]
    },
    {
      "cell_type": "markdown",
      "source": [
        "## Creating Simple Circuits using Qiskit"
      ],
      "metadata": {
        "id": "91NcrjqtXUG3"
      }
    },
    {
      "cell_type": "markdown",
      "source": [
        "### How to initialize a quantum circuit?"
      ],
      "metadata": {
        "id": "0nDihzQTXg2G"
      }
    },
    {
      "cell_type": "code",
      "source": [
        "qc = QuantumCircuit(1) #you take one qubit initialized at 0th state\n",
        "\n",
        "#QuantumCircuit function takes one or two arguments, first being number of qubits\n",
        "# and \n",
        "#second being number of classical bits (if measurement is required!): example:\n",
        "# qc = QuantumCircuit(2,2) #2 qubit, 2 classical bit quantum circuit \n",
        "#(saved in variable qc)"
      ],
      "metadata": {
        "id": "iahLMTqmXUQS",
        "colab": {
          "base_uri": "https://localhost:8080/",
          "height": 240
        },
        "outputId": "3b8af13f-4449-4286-f429-006ede23c84b"
      },
      "execution_count": 1,
      "outputs": [
        {
          "output_type": "error",
          "ename": "NameError",
          "evalue": "ignored",
          "traceback": [
            "\u001b[0;31m---------------------------------------------------------------------------\u001b[0m",
            "\u001b[0;31mNameError\u001b[0m                                 Traceback (most recent call last)",
            "\u001b[0;32m<ipython-input-1-e7fc14923bfc>\u001b[0m in \u001b[0;36m<cell line: 1>\u001b[0;34m()\u001b[0m\n\u001b[0;32m----> 1\u001b[0;31m \u001b[0mqc\u001b[0m \u001b[0;34m=\u001b[0m \u001b[0mQuantumCircuit\u001b[0m\u001b[0;34m(\u001b[0m\u001b[0;36m1\u001b[0m\u001b[0;34m)\u001b[0m \u001b[0;31m#you take one qubit initialized at 0th state\u001b[0m\u001b[0;34m\u001b[0m\u001b[0;34m\u001b[0m\u001b[0m\n\u001b[0m\u001b[1;32m      2\u001b[0m \u001b[0;34m\u001b[0m\u001b[0m\n\u001b[1;32m      3\u001b[0m \u001b[0;31m#QuantumCircuit function takes one or two arguments, first being number of qubits\u001b[0m\u001b[0;34m\u001b[0m\u001b[0;34m\u001b[0m\u001b[0m\n\u001b[1;32m      4\u001b[0m \u001b[0;31m# and\u001b[0m\u001b[0;34m\u001b[0m\u001b[0;34m\u001b[0m\u001b[0m\n\u001b[1;32m      5\u001b[0m \u001b[0;31m#second being number of classical bits (if measurement is required!): example:\u001b[0m\u001b[0;34m\u001b[0m\u001b[0;34m\u001b[0m\u001b[0m\n",
            "\u001b[0;31mNameError\u001b[0m: name 'QuantumCircuit' is not defined"
          ]
        }
      ]
    },
    {
      "cell_type": "markdown",
      "source": [
        "**Question #1**\n",
        "Create a quantum circuit with 3 qubits and 1 classical bit."
      ],
      "metadata": {
        "id": "YHpKK43oYWBB"
      }
    },
    {
      "cell_type": "code",
      "source": [
        "qc = QuantumCircuit(3,1)\n"
      ],
      "metadata": {
        "id": "u5LFTAoXYmtP"
      },
      "execution_count": null,
      "outputs": []
    },
    {
      "cell_type": "markdown",
      "source": [
        "**Question #2**\n",
        "Create a quantum circuit with 2 qubits and 0 classical bit."
      ],
      "metadata": {
        "id": "rX22-Y9sYUCS"
      }
    },
    {
      "cell_type": "code",
      "source": [
        "qc = QuantumCircuit(2)"
      ],
      "metadata": {
        "id": "Wl03r2bbYxIH"
      },
      "execution_count": null,
      "outputs": []
    },
    {
      "cell_type": "markdown",
      "source": [
        "## How to apply gates to a quantum circuit?\n",
        "\n",
        "If your circuit is 'qc', you want to apply 'x' gate, then:\n",
        "\n",
        "qc.x(0) #0 is the index of the qubit"
      ],
      "metadata": {
        "id": "VcUQSx11YOxX"
      }
    },
    {
      "cell_type": "markdown",
      "source": [
        "### Apply X gate"
      ],
      "metadata": {
        "id": "8n4yX4_taO-v"
      }
    },
    {
      "cell_type": "code",
      "source": [
        "qc = QuantumCircuit(1) #only one qubit: it's zeroth qubit\n",
        "qc.x(0) #x gate applied to 0th qubit"
      ],
      "metadata": {
        "colab": {
          "base_uri": "https://localhost:8080/"
        },
        "id": "jU_MxXBCZuBr",
        "outputId": "1f22a02b-7249-4e91-8c31-fbbc799439e4"
      },
      "execution_count": null,
      "outputs": [
        {
          "output_type": "execute_result",
          "data": {
            "text/plain": [
              "<qiskit.circuit.instructionset.InstructionSet at 0x7f88ecbbe890>"
            ]
          },
          "metadata": {},
          "execution_count": 5
        }
      ]
    },
    {
      "cell_type": "markdown",
      "source": [
        "**Question #3**\n",
        "Create a quantum circuit with 3 qubits and no classical bit, and then apply X gate to 0th qubit and 1st qubit."
      ],
      "metadata": {
        "id": "3mEIudyNb62y"
      }
    },
    {
      "cell_type": "code",
      "source": [
        "qc = QuantumCircuit(3)\n",
        "qc.x(0)\n",
        "qc.x(1)"
      ],
      "metadata": {
        "id": "Eg3GqLv1b62z",
        "colab": {
          "base_uri": "https://localhost:8080/"
        },
        "outputId": "a0a875e2-0bea-4b7f-b300-4e02aa7bb976"
      },
      "execution_count": null,
      "outputs": [
        {
          "output_type": "execute_result",
          "data": {
            "text/plain": [
              "<qiskit.circuit.instructionset.InstructionSet at 0x7f88ecbbe590>"
            ]
          },
          "metadata": {},
          "execution_count": 8
        }
      ]
    },
    {
      "cell_type": "markdown",
      "source": [
        "### Apply H gate"
      ],
      "metadata": {
        "id": "HvARyQ07aUyl"
      }
    },
    {
      "cell_type": "code",
      "source": [
        "qc = QuantumCircuit(2) #two qubits: 0 classical bits\n",
        "qc.h(1) #x gate applied to 1st qubit"
      ],
      "metadata": {
        "colab": {
          "base_uri": "https://localhost:8080/"
        },
        "outputId": "165ec068-4893-4237-91d8-1cebef552d20",
        "id": "lIC151j2arOC"
      },
      "execution_count": null,
      "outputs": [
        {
          "output_type": "execute_result",
          "data": {
            "text/plain": [
              "<qiskit.circuit.instructionset.InstructionSet at 0x7f88ecbbe4a0>"
            ]
          },
          "metadata": {},
          "execution_count": 9
        }
      ]
    },
    {
      "cell_type": "markdown",
      "source": [
        "**Question #4**\n",
        "Create a quantum circuit with 3 qubits and no classical bit, and then apply X gate to 0th qubit and H gate to 1st qubit."
      ],
      "metadata": {
        "id": "LsL9OEdWazk7"
      }
    },
    {
      "cell_type": "code",
      "source": [
        "qc = QuantumCircuit(3)\n",
        "qc.x(0)\n",
        "qc.h(1)\n",
        "qc.draw()"
      ],
      "metadata": {
        "id": "KOmMV2JTazk8",
        "colab": {
          "base_uri": "https://localhost:8080/",
          "height": 125
        },
        "outputId": "92704d9d-9118-4afa-f176-0f1c16254b71"
      },
      "execution_count": null,
      "outputs": [
        {
          "output_type": "execute_result",
          "data": {
            "text/plain": [
              "     ┌───┐\n",
              "q_0: ┤ X ├\n",
              "     ├───┤\n",
              "q_1: ┤ H ├\n",
              "     └───┘\n",
              "q_2: ─────\n",
              "          "
            ],
            "text/html": [
              "<pre style=\"word-wrap: normal;white-space: pre;background: #fff0;line-height: 1.1;font-family: &quot;Courier New&quot;,Courier,monospace\">     ┌───┐\n",
              "q_0: ┤ X ├\n",
              "     ├───┤\n",
              "q_1: ┤ H ├\n",
              "     └───┘\n",
              "q_2: ─────\n",
              "          </pre>"
            ]
          },
          "metadata": {},
          "execution_count": 19
        }
      ]
    },
    {
      "cell_type": "markdown",
      "source": [
        "### Apply Z gate"
      ],
      "metadata": {
        "id": "tjBP-HEuaaGX"
      }
    },
    {
      "cell_type": "code",
      "source": [
        "qc = QuantumCircuit(1) #only one qubit: it's zeroth qubit\n",
        "qc.z(0) #x gate applied to 0th qubit"
      ],
      "metadata": {
        "colab": {
          "base_uri": "https://localhost:8080/"
        },
        "outputId": "169600cb-0e41-4b9c-89c5-7ddeec4894cf",
        "id": "D-x80OsqarfX"
      },
      "execution_count": null,
      "outputs": [
        {
          "output_type": "execute_result",
          "data": {
            "text/plain": [
              "<qiskit.circuit.instructionset.InstructionSet at 0x7fcee4415c30>"
            ]
          },
          "metadata": {},
          "execution_count": 17
        }
      ]
    },
    {
      "cell_type": "markdown",
      "source": [
        "**Question #5**\n",
        "Create a quantum circuit with 3 qubits and 1 classical bit, and then apply X gate to 0th qubit and H gate to 1st qubit, and Z gate to the 2nd qubit. "
      ],
      "metadata": {
        "id": "RxxhsRbTaz41"
      }
    },
    {
      "cell_type": "code",
      "source": [
        "qc = QuantumCircuit(3,1)\n",
        "qc.x(0)\n",
        "qc.h(1)\n",
        "qc.z(2)\n"
      ],
      "metadata": {
        "id": "EFwFw500az41",
        "colab": {
          "base_uri": "https://localhost:8080/"
        },
        "outputId": "f7bf1e99-0db6-41cf-f9cd-a5614e0ba85b"
      },
      "execution_count": null,
      "outputs": [
        {
          "output_type": "execute_result",
          "data": {
            "text/plain": [
              "<qiskit.circuit.instructionset.InstructionSet at 0x7f88ecacb760>"
            ]
          },
          "metadata": {},
          "execution_count": 12
        }
      ]
    },
    {
      "cell_type": "markdown",
      "source": [
        "**Question #6**\n",
        "Create a quantum circuit with 3 qubits and 1 classical bit, and then apply X gate to 0th qubit and then apply H gate to it, and finally apply Z gate to the outcome. "
      ],
      "metadata": {
        "id": "m7MBBk79cXhq"
      }
    },
    {
      "cell_type": "code",
      "source": [
        "#write your code"
      ],
      "metadata": {
        "id": "HP3It7x6cXhr"
      },
      "execution_count": null,
      "outputs": []
    },
    {
      "cell_type": "markdown",
      "source": [
        "### Apply CNOT gate\n",
        "(acts on two qubits)"
      ],
      "metadata": {
        "id": "mmfm4Wqsaaeq"
      }
    },
    {
      "cell_type": "code",
      "source": [
        "qc = QuantumCircuit(2) #two qubits\n",
        "qc.cx(0,1) #cx gate applied (0th qubit is the control, 1st qubit is the target)\n",
        "qc.draw()"
      ],
      "metadata": {
        "colab": {
          "base_uri": "https://localhost:8080/",
          "height": 94
        },
        "outputId": "da503d86-eea9-4ff9-edcc-ca84558e8b6a",
        "id": "MD-m18A2arwy"
      },
      "execution_count": null,
      "outputs": [
        {
          "output_type": "execute_result",
          "data": {
            "text/plain": [
              "          \n",
              "q_0: ──■──\n",
              "     ┌─┴─┐\n",
              "q_1: ┤ X ├\n",
              "     └───┘"
            ],
            "text/html": [
              "<pre style=\"word-wrap: normal;white-space: pre;background: #fff0;line-height: 1.1;font-family: &quot;Courier New&quot;,Courier,monospace\">          \n",
              "q_0: ──■──\n",
              "     ┌─┴─┐\n",
              "q_1: ┤ X ├\n",
              "     └───┘</pre>"
            ]
          },
          "metadata": {},
          "execution_count": 16
        }
      ]
    },
    {
      "cell_type": "code",
      "source": [
        "qc = QuantumCircuit(2) #two qubits\n",
        "qc.cx(1,0) #cx gate applied (1st qubit is the control, 0th qubit is the target)\n",
        "qc.draw()"
      ],
      "metadata": {
        "colab": {
          "base_uri": "https://localhost:8080/",
          "height": 94
        },
        "id": "C_bxTIlYc7Fn",
        "outputId": "187061bc-339b-4f30-c0d5-702b852b1a13"
      },
      "execution_count": null,
      "outputs": [
        {
          "output_type": "execute_result",
          "data": {
            "text/plain": [
              "     ┌───┐\n",
              "q_0: ┤ X ├\n",
              "     └─┬─┘\n",
              "q_1: ──■──\n",
              "          "
            ],
            "text/html": [
              "<pre style=\"word-wrap: normal;white-space: pre;background: #fff0;line-height: 1.1;font-family: &quot;Courier New&quot;,Courier,monospace\">     ┌───┐\n",
              "q_0: ┤ X ├\n",
              "     └─┬─┘\n",
              "q_1: ──■──\n",
              "          </pre>"
            ]
          },
          "metadata": {},
          "execution_count": 18
        }
      ]
    },
    {
      "cell_type": "markdown",
      "source": [
        "**Question #7**\n",
        "Create a quantum circuit with 3 qubits and 1 classical bit, and then apply CNOT gate such that 2nd qubit is the control qubit and 1st qubit is the target qubit."
      ],
      "metadata": {
        "id": "H0F_TeDha0an"
      }
    },
    {
      "cell_type": "code",
      "source": [
        "#write your code here"
      ],
      "metadata": {
        "id": "QrviOKeddNO_"
      },
      "execution_count": null,
      "outputs": []
    },
    {
      "cell_type": "markdown",
      "source": [
        "**Question #8**\n",
        "Create a quantum circuit with 3 qubits and 1 classical bit, and then apply CNOT gate such that 3rd qubit is the control qubit and 0th qubit is the target qubit."
      ],
      "metadata": {
        "id": "MUyteVdgdL5R"
      }
    },
    {
      "cell_type": "code",
      "source": [
        "#write your code here"
      ],
      "metadata": {
        "id": "GwKrwWIidPK3"
      },
      "execution_count": null,
      "outputs": []
    },
    {
      "cell_type": "markdown",
      "source": [
        "**Question #9**\n",
        "Create a quantum circuit with 3 qubits and 1 classical bit, and then apply X gate to the 0th qubit, and then apply CNOT gate such that 0th qubit is the control and 1st qubit is the target."
      ],
      "metadata": {
        "id": "Di04C9qSdUTx"
      }
    },
    {
      "cell_type": "code",
      "source": [
        "#write your code here"
      ],
      "metadata": {
        "id": "NRUc-pOUa0ao"
      },
      "execution_count": null,
      "outputs": []
    },
    {
      "cell_type": "markdown",
      "source": [
        "### How to draw Quantum Circuit?"
      ],
      "metadata": {
        "id": "d2IRjgeOZgRK"
      }
    },
    {
      "cell_type": "code",
      "source": [
        "qc = QuantumCircuit(1)\n",
        "qc.draw() #this draws the circuit"
      ],
      "metadata": {
        "colab": {
          "base_uri": "https://localhost:8080/",
          "height": 63
        },
        "id": "6nfLPcfHY9bi",
        "outputId": "84a906b4-aecd-41d0-cfe9-dc3a0d4ff2f6"
      },
      "execution_count": null,
      "outputs": [
        {
          "output_type": "execute_result",
          "data": {
            "text/plain": [
              "   \n",
              "q: \n",
              "   "
            ],
            "text/html": [
              "<pre style=\"word-wrap: normal;white-space: pre;background: #fff0;line-height: 1.1;font-family: &quot;Courier New&quot;,Courier,monospace\">   \n",
              "q: \n",
              "   </pre>"
            ]
          },
          "metadata": {},
          "execution_count": 15
        }
      ]
    },
    {
      "cell_type": "code",
      "source": [
        "qc = QuantumCircuit(1)\n",
        "qc.x(0) #x gate applied to 0th qubit\n",
        "qc.draw() #this draws the circuit"
      ],
      "metadata": {
        "colab": {
          "base_uri": "https://localhost:8080/",
          "height": 63
        },
        "id": "KXOUYwztdwfE",
        "outputId": "d06cea5a-5589-4715-c645-1fc2626604de"
      },
      "execution_count": null,
      "outputs": [
        {
          "output_type": "execute_result",
          "data": {
            "text/plain": [
              "   ┌───┐\n",
              "q: ┤ X ├\n",
              "   └───┘"
            ],
            "text/html": [
              "<pre style=\"word-wrap: normal;white-space: pre;background: #fff0;line-height: 1.1;font-family: &quot;Courier New&quot;,Courier,monospace\">   ┌───┐\n",
              "q: ┤ X ├\n",
              "   └───┘</pre>"
            ]
          },
          "metadata": {},
          "execution_count": 23
        }
      ]
    },
    {
      "cell_type": "code",
      "source": [
        "qc = QuantumCircuit(2)\n",
        "qc.x(0) #x gate applied to 0th qubit\n",
        "qc.cx(0,1) #apply CNOT gate, 0th is control, 1st is target.\n",
        "qc.draw() #this draws the circuit"
      ],
      "metadata": {
        "colab": {
          "base_uri": "https://localhost:8080/",
          "height": 94
        },
        "id": "tClQ54l6eFIQ",
        "outputId": "f3ff5710-f588-4156-8398-7233374d8cb0"
      },
      "execution_count": null,
      "outputs": [
        {
          "output_type": "execute_result",
          "data": {
            "text/plain": [
              "     ┌───┐     \n",
              "q_0: ┤ X ├──■──\n",
              "     └───┘┌─┴─┐\n",
              "q_1: ─────┤ X ├\n",
              "          └───┘"
            ],
            "text/html": [
              "<pre style=\"word-wrap: normal;white-space: pre;background: #fff0;line-height: 1.1;font-family: &quot;Courier New&quot;,Courier,monospace\">     ┌───┐     \n",
              "q_0: ┤ X ├──■──\n",
              "     └───┘┌─┴─┐\n",
              "q_1: ─────┤ X ├\n",
              "          └───┘</pre>"
            ]
          },
          "metadata": {},
          "execution_count": 24
        }
      ]
    },
    {
      "cell_type": "markdown",
      "source": [
        "**Question #10**\n",
        "Create a 3 qubit circuit with 1 classical bit, then apply x gate to 0th qubit, H gate to it and finally apply CNOT gate such that 0th qubit is the control and 2nd qubit is the target. Finally, create the circuit"
      ],
      "metadata": {
        "id": "1icm3BLSeJl8"
      }
    },
    {
      "cell_type": "code",
      "source": [
        "#write your code"
      ],
      "metadata": {
        "id": "iNb7ykVBePYV"
      },
      "execution_count": null,
      "outputs": []
    },
    {
      "cell_type": "markdown",
      "source": [
        "### How to measure the outcome in quantum circuit?\n",
        "We need a classical bit to store the measurement reasult in quantum circuit!!\n",
        "The measurement is done with QuantumCircuit().measure() function. \\\\\n",
        "It's done like:\n",
        "qc.measure(0,0) #0th qubit, 0th cbit \\\\\n",
        "or \\\\\n",
        "qc.measure([0,1],[0,1]) #qubits (0th and 1st), cbits (2 classical bits)which is equivalent to:\n",
        "qc.measure(0,0)\n",
        "qc.measure(1,1).\n",
        "\n",
        "Check this [link](https://qiskit.org/documentation/stubs/qiskit.circuit.QuantumCircuit.measure.html) for detail.\n",
        "\n",
        "**NOTE** that qc.measure_all() creates its own classical bits to store the measurement results in."
      ],
      "metadata": {
        "id": "BQ_77eWUeh_Y"
      }
    },
    {
      "cell_type": "code",
      "source": [
        "qc = QuantumCircuit(1, 1) #quantum circuit with 1 qubit and 1 classical bit\n",
        "\n",
        "qc.h(0) #H gate to 0th\n",
        "qc.measure(0,0)\n",
        "qc.draw()"
      ],
      "metadata": {
        "colab": {
          "base_uri": "https://localhost:8080/",
          "height": 94
        },
        "id": "HxX_Q5R0fffZ",
        "outputId": "5f53c811-8fe0-43bc-d351-1d34dfcaaec4"
      },
      "execution_count": null,
      "outputs": [
        {
          "output_type": "execute_result",
          "data": {
            "text/plain": [
              "     ┌───┐┌─┐\n",
              "  q: ┤ H ├┤M├\n",
              "     └───┘└╥┘\n",
              "c: 1/══════╩═\n",
              "           0 "
            ],
            "text/html": [
              "<pre style=\"word-wrap: normal;white-space: pre;background: #fff0;line-height: 1.1;font-family: &quot;Courier New&quot;,Courier,monospace\">     ┌───┐┌─┐\n",
              "  q: ┤ H ├┤M├\n",
              "     └───┘└╥┘\n",
              "c: 1/══════╩═\n",
              "           0 </pre>"
            ]
          },
          "metadata": {},
          "execution_count": 20
        }
      ]
    },
    {
      "cell_type": "code",
      "source": [
        "qc = QuantumCircuit(2, 2) #quantum circuit with 2 qubits and 2 classical bits\n",
        "\n",
        "qc.h(0) #H gate to 0th\n",
        "qc.cx(0, 1) #CX from 0 to 1\n",
        "\n",
        "qc.measure([0, 1], [0, 1]) #measure the output\n",
        "\n",
        "qc.draw()"
      ],
      "metadata": {
        "colab": {
          "base_uri": "https://localhost:8080/",
          "height": 125
        },
        "id": "OlLhaZb6eidZ",
        "outputId": "72176c6e-6a94-4b4f-cb56-e213d2bf9bf8"
      },
      "execution_count": null,
      "outputs": [
        {
          "output_type": "execute_result",
          "data": {
            "text/plain": [
              "     ┌───┐     ┌─┐   \n",
              "q_0: ┤ H ├──■──┤M├───\n",
              "     └───┘┌─┴─┐└╥┘┌─┐\n",
              "q_1: ─────┤ X ├─╫─┤M├\n",
              "          └───┘ ║ └╥┘\n",
              "c: 2/═══════════╩══╩═\n",
              "                0  1 "
            ],
            "text/html": [
              "<pre style=\"word-wrap: normal;white-space: pre;background: #fff0;line-height: 1.1;font-family: &quot;Courier New&quot;,Courier,monospace\">     ┌───┐     ┌─┐   \n",
              "q_0: ┤ H ├──■──┤M├───\n",
              "     └───┘┌─┴─┐└╥┘┌─┐\n",
              "q_1: ─────┤ X ├─╫─┤M├\n",
              "          └───┘ ║ └╥┘\n",
              "c: 2/═══════════╩══╩═\n",
              "                0  1 </pre>"
            ]
          },
          "metadata": {},
          "execution_count": 27
        }
      ]
    },
    {
      "cell_type": "code",
      "source": [
        "qc = QuantumCircuit(3, 2) #quantum circuit with 2 qubits and 2 classical bits\n",
        "\n",
        "qc.h(0) #H gate to 0th\n",
        "qc.cx(1, 2) #CX from 0 to 1\n",
        "\n",
        "qc.measure(0,0) \n",
        "qc.measure(1,1) \n",
        "qc.measure(0,1)\n",
        "\n",
        "qc.draw()"
      ],
      "metadata": {
        "colab": {
          "base_uri": "https://localhost:8080/",
          "height": 156
        },
        "id": "FPkMvJStgpYf",
        "outputId": "b02fb85e-ea26-436b-b292-cbb878593f4b"
      },
      "execution_count": null,
      "outputs": [
        {
          "output_type": "execute_result",
          "data": {
            "text/plain": [
              "     ┌───┐┌─┐   ┌─┐\n",
              "q_0: ┤ H ├┤M├───┤M├\n",
              "     └───┘└╥┘┌─┐└╥┘\n",
              "q_1: ──■───╫─┤M├─╫─\n",
              "     ┌─┴─┐ ║ └╥┘ ║ \n",
              "q_2: ┤ X ├─╫──╫──╫─\n",
              "     └───┘ ║  ║  ║ \n",
              "c: 2/══════╩══╩══╩═\n",
              "           0  1  1 "
            ],
            "text/html": [
              "<pre style=\"word-wrap: normal;white-space: pre;background: #fff0;line-height: 1.1;font-family: &quot;Courier New&quot;,Courier,monospace\">     ┌───┐┌─┐   ┌─┐\n",
              "q_0: ┤ H ├┤M├───┤M├\n",
              "     └───┘└╥┘┌─┐└╥┘\n",
              "q_1: ──■───╫─┤M├─╫─\n",
              "     ┌─┴─┐ ║ └╥┘ ║ \n",
              "q_2: ┤ X ├─╫──╫──╫─\n",
              "     └───┘ ║  ║  ║ \n",
              "c: 2/══════╩══╩══╩═\n",
              "           0  1  1 </pre>"
            ]
          },
          "metadata": {},
          "execution_count": 52
        }
      ]
    },
    {
      "cell_type": "code",
      "source": [
        "backend = Aer.get_backend('qasm_simulator')\n",
        "job = execute(qc, backend = backend, shots = 1024)\n",
        "\n",
        "results = job.result()\n",
        "plot_histogram(results.get_counts(qc))"
      ],
      "metadata": {
        "colab": {
          "base_uri": "https://localhost:8080/",
          "height": 461
        },
        "id": "_OkAzx3b8-Uy",
        "outputId": "456135db-3c2b-4e18-eeef-162af72fb32f"
      },
      "execution_count": null,
      "outputs": [
        {
          "output_type": "execute_result",
          "data": {
            "text/plain": [
              "<Figure size 700x500 with 1 Axes>"
            ],
            "image/png": "[encoded data removed]"
          },
          "metadata": {},
          "execution_count": 53
        }
      ]
    },
    {
      "cell_type": "markdown",
      "source": [],
      "metadata": {
        "id": "gkrsRUM5hoUx"
      }
    },
    {
      "cell_type": "markdown",
      "source": [
        "**Question #11** Create a 3 qubit and 3 classical bit quantum circuit where you apply an X gate to all 3 qubits and then measure them all (DO NOT USE measur_all() here). Then draw this circuit.\n"
      ],
      "metadata": {
        "id": "435nyHhEheDH"
      }
    },
    {
      "cell_type": "code",
      "source": [
        "#write your code here"
      ],
      "metadata": {
        "id": "ng0gdilHhpU8"
      },
      "execution_count": null,
      "outputs": []
    },
    {
      "cell_type": "markdown",
      "source": [
        "**Question #12** Create a 3 qubit and 3 classical bit quantum circuit where you apply an X gate to all 3 qubits and then measure them all. Then draw this circuit.\n"
      ],
      "metadata": {
        "id": "GOIM9hMbhsQW"
      }
    },
    {
      "cell_type": "code",
      "source": [
        "#write your code here"
      ],
      "metadata": {
        "id": "lSbwHggghsQX"
      },
      "execution_count": null,
      "outputs": []
    },
    {
      "cell_type": "markdown",
      "source": [
        "**Question #13** Create a 3 qubit and 3 classical bit quantum circuit where you apply an X gate to all 3 qubits and then measure them all using measure_all() function. Then draw this circuit.\n"
      ],
      "metadata": {
        "id": "_eGbFVq9hsZq"
      }
    },
    {
      "cell_type": "code",
      "source": [
        "qc = # COMPLETE THIS LINE\n",
        "\n",
        "qc.x([0, 1, 2])\n",
        "\n",
        "qc.measure# COMPLETE THIS LINE\n",
        "\n",
        "qc.draw()"
      ],
      "metadata": {
        "colab": {
          "base_uri": "https://localhost:8080/",
          "height": 131
        },
        "id": "-ObzTnnphsZq",
        "outputId": "91bc138d-dff3-4856-b56c-45551f28c87a"
      },
      "execution_count": null,
      "outputs": [
        {
          "output_type": "error",
          "ename": "SyntaxError",
          "evalue": "ignored",
          "traceback": [
            "\u001b[0;36m  File \u001b[0;32m\"<ipython-input-33-da897a497269>\"\u001b[0;36m, line \u001b[0;32m1\u001b[0m\n\u001b[0;31m    qc = # COMPLETE THIS LINE\u001b[0m\n\u001b[0m         ^\u001b[0m\n\u001b[0;31mSyntaxError\u001b[0m\u001b[0;31m:\u001b[0m invalid syntax\n"
          ]
        }
      ]
    },
    {
      "cell_type": "markdown",
      "source": [
        "### See the output\n",
        "\n",
        "We can see the output of the quantum circuit using following code."
      ],
      "metadata": {
        "id": "kTxWV-BkeimJ"
      }
    },
    {
      "cell_type": "code",
      "source": [
        "qc = QuantumCircuit(2, 2) #quantum circuit with 2 qubits and 2 classical bits\n",
        "\n",
        "qc.h(0) #H gate to 0th\n",
        "qc.cx(0, 1) #CX from 0 to 1\n",
        "\n",
        "qc.measure(0,0) \n",
        "qc.measure(1,1) \n",
        "\n",
        "qc.draw()"
      ],
      "metadata": {
        "colab": {
          "base_uri": "https://localhost:8080/",
          "height": 125
        },
        "id": "Mm2GuhPqhBu9",
        "outputId": "395d58ed-532f-4277-d064-1179d5deef96"
      },
      "execution_count": null,
      "outputs": [
        {
          "output_type": "execute_result",
          "data": {
            "text/plain": [
              "     ┌───┐     ┌─┐   \n",
              "q_0: ┤ H ├──■──┤M├───\n",
              "     └───┘┌─┴─┐└╥┘┌─┐\n",
              "q_1: ─────┤ X ├─╫─┤M├\n",
              "          └───┘ ║ └╥┘\n",
              "c: 2/═══════════╩══╩═\n",
              "                0  1 "
            ],
            "text/html": [
              "<pre style=\"word-wrap: normal;white-space: pre;background: #fff0;line-height: 1.1;font-family: &quot;Courier New&quot;,Courier,monospace\">     ┌───┐     ┌─┐   \n",
              "q_0: ┤ H ├──■──┤M├───\n",
              "     └───┘┌─┴─┐└╥┘┌─┐\n",
              "q_1: ─────┤ X ├─╫─┤M├\n",
              "          └───┘ ║ └╥┘\n",
              "c: 2/═══════════╩══╩═\n",
              "                0  1 </pre>"
            ]
          },
          "metadata": {},
          "execution_count": 29
        }
      ]
    },
    {
      "cell_type": "code",
      "source": [
        "backend = Aer.get_backend('qasm_simulator')\n",
        "job = execute(qc, backend = backend, shots = 1024)\n",
        "\n",
        "results = job.result()\n",
        "plot_histogram(results.get_counts(qc))"
      ],
      "metadata": {
        "colab": {
          "base_uri": "https://localhost:8080/",
          "height": 449
        },
        "id": "4cE9CFb-eiuV",
        "outputId": "ac40e84b-f224-4d3f-b02e-d3dd34871bc7"
      },
      "execution_count": null,
      "outputs": [
        {
          "output_type": "execute_result",
          "data": {
            "text/plain": [
              "<Figure size 700x500 with 1 Axes>"
            ],
            "image/png": "[encoded data removed]"
          },
          "metadata": {},
          "execution_count": 44
        }
      ]
    },
    {
      "cell_type": "markdown",
      "source": [
        "**Question #14**\n",
        "Re-do questions 9, 10, 11, 12, 13 to visualize the output results!"
      ],
      "metadata": {
        "id": "scFZVQmDei2g"
      }
    },
    {
      "cell_type": "code",
      "source": [
        "#question 9 #write your code"
      ],
      "metadata": {
        "id": "XbtYCb37ejG3"
      },
      "execution_count": null,
      "outputs": []
    },
    {
      "cell_type": "code",
      "source": [
        "#question 10  #write your code"
      ],
      "metadata": {
        "id": "hTb6rmROiqKs"
      },
      "execution_count": null,
      "outputs": []
    },
    {
      "cell_type": "code",
      "source": [
        "#question 11  #write your code"
      ],
      "metadata": {
        "id": "nLrwRd15iqdX"
      },
      "execution_count": null,
      "outputs": []
    },
    {
      "cell_type": "code",
      "source": [
        "#question 12  #write your code"
      ],
      "metadata": {
        "id": "wc5RniZriq9O"
      },
      "execution_count": null,
      "outputs": []
    },
    {
      "cell_type": "code",
      "source": [
        "#question 13 #write your code"
      ],
      "metadata": {
        "id": "Kq2UwO_DjMSE"
      },
      "execution_count": null,
      "outputs": []
    },
    {
      "cell_type": "markdown",
      "source": [
        "### See State Vectors  in different formats: text, latex and in Bloch Sphere"
      ],
      "metadata": {
        "id": "nWDQyHDGjOcH"
      }
    },
    {
      "cell_type": "code",
      "source": [
        "qc = QuantumCircuit(1)\n",
        "qc.h(0)\n",
        "\n",
        "#store the state vector of the qubit in the variable state0\n",
        "state0 = Statevector.from_instruction(qc) \n",
        "\n",
        "#draw the vector representation of the state in different formats\n",
        "\n",
        "#in text format\n",
        "state0.draw('text')"
      ],
      "metadata": {
        "colab": {
          "base_uri": "https://localhost:8080/"
        },
        "id": "4tqgFHu8janB",
        "outputId": "3ae47e7a-bbd3-4d97-fdbe-d6d7be602fa4"
      },
      "execution_count": null,
      "outputs": [
        {
          "output_type": "execute_result",
          "data": {
            "text/plain": [
              "[0.70710678+0.j,0.70710678+0.j]"
            ]
          },
          "metadata": {},
          "execution_count": 60
        }
      ]
    },
    {
      "cell_type": "code",
      "source": [
        "#in latex format\n",
        "state0.draw('latex')"
      ],
      "metadata": {
        "colab": {
          "base_uri": "https://localhost:8080/",
          "height": 40
        },
        "id": "-5EpGJVUjibx",
        "outputId": "09b81809-48a1-4caf-af70-545588696277"
      },
      "execution_count": null,
      "outputs": [
        {
          "output_type": "execute_result",
          "data": {
            "text/plain": [
              "<IPython.core.display.Latex object>"
            ],
            "text/latex": "$$\\frac{\\sqrt{2}}{2} |0\\rangle+\\frac{\\sqrt{2}}{2} |1\\rangle$$"
          },
          "metadata": {},
          "execution_count": 61
        }
      ]
    },
    {
      "cell_type": "code",
      "source": [
        "#in Bloch Sphere representation of the state\n",
        "state0.draw('bloch')"
      ],
      "metadata": {
        "colab": {
          "base_uri": "https://localhost:8080/",
          "height": 423
        },
        "id": "GflFk7Y9jz1E",
        "outputId": "dcc510cd-bf9c-44cd-be3b-c0d594c0f54f"
      },
      "execution_count": null,
      "outputs": [
        {
          "output_type": "execute_result",
          "data": {
            "text/plain": [
              "<Figure size 480x480 with 1 Axes>"
            ],
            "image/png": "[encoded data removed]"
          },
          "metadata": {},
          "execution_count": 62
        }
      ]
    },
    {
      "cell_type": "code",
      "source": [
        "#measure the state vector\n",
        "state0.measure()"
      ],
      "metadata": {
        "id": "PjGeQxovj9A-",
        "colab": {
          "base_uri": "https://localhost:8080/"
        },
        "outputId": "0f1079e5-6e4d-4f2c-87b9-e3f172d2a02e"
      },
      "execution_count": null,
      "outputs": [
        {
          "output_type": "execute_result",
          "data": {
            "text/plain": [
              "('0',\n",
              " Statevector([1.+0.j, 0.+0.j],\n",
              "             dims=(2,)))"
            ]
          },
          "metadata": {},
          "execution_count": 43
        }
      ]
    },
    {
      "cell_type": "markdown",
      "source": [
        "### Visualize Transition\n",
        "\n",
        "To see how a qubits undergo changes in the Bloch Sphere, we can use visualize_transition() function builtin Qiskit. See more [here](https://qiskit.org/documentation/stubs/qiskit.visualization.visualize_transition.html), and [here](https://qiskit.org/documentation/apidoc/visualization.html/)."
      ],
      "metadata": {
        "id": "yhbtQzRxkqk8"
      }
    },
    {
      "cell_type": "code",
      "source": [
        "# Circuit\n",
        "qc = QuantumCircuit(1) #1 qubit and no classical bit\n",
        "\n",
        "qc.x(0)\n",
        "qc.h(0)\n",
        "\n",
        "qc.h(0)\n",
        "qc.x(0)\n",
        "\n",
        "qc.draw()\n",
        "\n",
        "visualize_transition(qc, trace = True)"
      ],
      "metadata": {
        "id": "HwMENrlrkqwr",
        "colab": {
          "base_uri": "https://localhost:8080/"
        },
        "outputId": "475c764d-51ca-4f5b-cf80-ce017a084c1f"
      },
      "execution_count": null,
      "outputs": [
        {
          "output_type": "stream",
          "name": "stderr",
          "text": [
            "WARNING:matplotlib.animation:Animation size has reached 52434926 bytes, exceeding the limit of 52428800.0. If you're sure you want a larger animation embedded, set the animation.embed_limit rc parameter to a larger value (in MB). This and further frames will be dropped.\n"
          ]
        }
      ]
    },
    {
      "cell_type": "markdown",
      "source": [
        "**Question#15**\n",
        "Create and draw a 3-qubit/1-classical bit circuit. Then apply X gate to the 0th qubit, then H gate to it, and apply CX gate (0 control, 1 target). Then draw circuit, do measurement, see the output measurement and visualize the transition."
      ],
      "metadata": {
        "id": "EopbcfRRn5vd"
      }
    },
    {
      "cell_type": "code",
      "source": [
        "#your code"
      ],
      "metadata": {
        "id": "JdAv_I2Wn53R"
      },
      "execution_count": null,
      "outputs": []
    },
    {
      "cell_type": "code",
      "source": [
        "# Simulate using QASM\n",
        "backend = Aer.get_backend('qasm_simulator')\n",
        "job = execute(qc, backend = backend, shots = 1024)  # Make sure you change \"qc\" to the name of your quantum circuit in this line!\n",
        "result = job.result()\n",
        "counts = result.get_counts()\n",
        "plot_histogram(counts)"
      ],
      "metadata": {
        "id": "B5he1JECotTU"
      },
      "execution_count": null,
      "outputs": []
    },
    {
      "cell_type": "code",
      "source": [
        "#your code\n"
      ],
      "metadata": {
        "id": "mQc6uze8oxAz"
      },
      "execution_count": null,
      "outputs": []
    },
    {
      "cell_type": "markdown",
      "source": [
        "**Question#16**\n",
        "Create and draw a 2-qubit/2-classical bit circuit in which you apply the gates listed below and measure the qubits. Run the simulator code below to see what measurements results you get.\n",
        "\n",
        "**Gates (in the order listed)**:\n",
        "\n",
        "**Z on qubit 0**\n",
        "\n",
        "**H on qubit 0**\n",
        "\n",
        "**H on qubit 1**"
      ],
      "metadata": {
        "id": "9QrgBXXko63f"
      }
    },
    {
      "cell_type": "code",
      "source": [
        "#your code    "
      ],
      "metadata": {
        "id": "uQk8vP7Fo9Mu"
      },
      "execution_count": null,
      "outputs": []
    },
    {
      "cell_type": "code",
      "source": [
        "#your code"
      ],
      "metadata": {
        "id": "btlQe7yAo9UV"
      },
      "execution_count": null,
      "outputs": []
    },
    {
      "cell_type": "markdown",
      "source": [
        "### Exercises\n"
      ],
      "metadata": {
        "id": "D0QugarQi8eU"
      }
    },
    {
      "cell_type": "markdown",
      "source": [
        "**Hw#1**, create a 5 qubit/0 classical bit circuit in which qubits 0 - 2 are put in the $| + \\rangle$ state and qubits 3 - 4 are put into the $| - \\rangle$ state and then measured. Run the provided code below to simulate the circuit and verify that you have coded this correctly.\n"
      ],
      "metadata": {
        "id": "-8yildcGi_0Q"
      }
    },
    {
      "cell_type": "code",
      "source": [
        "#write your code here"
      ],
      "metadata": {
        "id": "tPUZPLRRkOw2"
      },
      "execution_count": null,
      "outputs": []
    },
    {
      "cell_type": "code",
      "source": [
        "# Simulate using QASM\n",
        "backend = Aer.get_backend('qasm_simulator')\n",
        "job = execute(qc, backend = backend, shots = 1024)  # Make sure you change \"qc\" to the name of your quantum circuit in this line!\n",
        "result = job.result()\n",
        "counts = result.get_counts()\n",
        "plot_histogram(counts)"
      ],
      "metadata": {
        "id": "OKKSWqQXkVAj"
      },
      "execution_count": null,
      "outputs": []
    },
    {
      "cell_type": "markdown",
      "source": [
        "**Hw#2**\n",
        "Create and draw a 2-qubit/2-classical bit circuit with gates applied as described below. Measure both bits in the end and simulate the results using the provided code. Then run the simulation using QASM.\n",
        "\n",
        "**Gates**:\n",
        "\n",
        "H on qubit 0\n",
        "\n",
        "CX with qubit 0 as the control and qubit 1 as the target\n",
        "\n",
        "CX with qubit 1 as the control and qubit 0 as the target"
      ],
      "metadata": {
        "id": "bXSi2yrLmcjN"
      }
    },
    {
      "cell_type": "code",
      "source": [
        "#write your code"
      ],
      "metadata": {
        "id": "ZZT_fMoXnOTJ"
      },
      "execution_count": null,
      "outputs": []
    },
    {
      "cell_type": "markdown",
      "source": [
        "Run the simulation using this:"
      ],
      "metadata": {
        "id": "xq3OUEL3nQQm"
      }
    },
    {
      "cell_type": "code",
      "source": [
        "# Simulate using QASM\n",
        "backend = Aer.get_backend('qasm_simulator')\n",
        "job = execute(qc, backend = backend, shots = 1024)  # Make sure you change \"qc\" to the name of your quantum circuit in this line!\n",
        "result = job.result()\n",
        "counts = result.get_counts()\n",
        "plot_histogram(counts)"
      ],
      "metadata": {
        "id": "qrpgCjwrnOZJ"
      },
      "execution_count": null,
      "outputs": []
    },
    {
      "cell_type": "markdown",
      "source": [
        "**Hw#3** Create and draw a 2-qubit/2-classical bit circuit with gates applied as described below. Measure both bits in the end and simulate the results using the provided code.\n",
        "\n",
        "**Gates**:\n",
        "\n",
        "H on qubit 0\n",
        "\n",
        "H on qubit 1\n",
        "\n",
        "CX with qubit 0 as the control and qubit 1 as the target\n",
        "\n",
        "H on qubit 0\n",
        "\n",
        "H on qubit 1"
      ],
      "metadata": {
        "id": "pWLTaTj1nDED"
      }
    },
    {
      "cell_type": "code",
      "source": [
        "#your code"
      ],
      "metadata": {
        "id": "yvOxCHIInW21"
      },
      "execution_count": null,
      "outputs": []
    },
    {
      "cell_type": "markdown",
      "source": [
        "Then run the simulation below using QASM."
      ],
      "metadata": {
        "id": "j95Ff6hAnKX0"
      }
    },
    {
      "cell_type": "code",
      "source": [
        "# Simulate using QASM\n",
        "backend = Aer.get_backend('qasm_simulator')\n",
        "job = execute(qc, backend = backend, shots = 1024)  # Make sure you change \"qc\" to the name of your quantum circuit in this line!\n",
        "result = job.result()\n",
        "counts = result.get_counts()\n",
        "plot_histogram(counts)"
      ],
      "metadata": {
        "id": "ceKKSS-8nKgW"
      },
      "execution_count": null,
      "outputs": []
    },
    {
      "cell_type": "markdown",
      "source": [
        "***Challenge#1**\n",
        "Create and draw a 5-qubit/2-classical bit quantum circuit where we apply gates as follows:\n",
        "\n",
        "Using a loop, apply H to all qubits if `superposition` is `True` and X otherwise.\n",
        "\n",
        "Then, if the variable `what_next` is the string \"Z\", apply a Z gate to every qubit using a loop.\n",
        "\n",
        "Also, run the code for different values of the variable to see this in action."
      ],
      "metadata": {
        "id": "iAAxitWNnl9a"
      }
    },
    {
      "cell_type": "code",
      "source": [
        "#your code goes here"
      ],
      "metadata": {
        "id": "HSSEWATYnmMC"
      },
      "execution_count": null,
      "outputs": []
    },
    {
      "cell_type": "markdown",
      "source": [
        "\n",
        "---\n",
        "© qubitnepal.com, All rights reserved."
      ],
      "metadata": {
        "id": "dssAhnVhkVmJ"
      }
    }
  ],
  "metadata": {
    "colab": {
      "provenance": [],
      "collapsed_sections": [
        "hI9LO7Gte0-4"
      ],
      "include_colab_link": true
    },
    "kernelspec": {
      "display_name": "Python 3",
      "name": "python3"
    },
    "language_info": {
      "name": "python"
    }
  },
  "nbformat": 4,
  "nbformat_minor": 0
}